{
 "cells": [
  {
   "cell_type": "markdown",
   "metadata": {},
   "source": [
    "## Regression using Scikit-Learn"
   ]
  },
  {
   "cell_type": "raw",
   "metadata": {},
   "source": [
    "First, a little bit about Linear regression. Linear regression, or ordinary least squares (OLS), is the simplest and most calssic linear method for regression. Linear regression finds the parameters w and b that minimize the mean squared error between predictions and the true regression targets, y, on the training set. The mean square error is the sum of the squared differences between the predictions and the true values."
   ]
  },
  {
   "cell_type": "code",
   "execution_count": null,
   "metadata": {
    "collapsed": true
   },
   "outputs": [],
   "source": []
  },
  {
   "cell_type": "code",
   "execution_count": 1,
   "metadata": {},
   "outputs": [],
   "source": [
    "import matplotlib.pyplot as plt\n",
    "import pandas as pd"
   ]
  },
  {
   "cell_type": "code",
   "execution_count": 2,
   "metadata": {},
   "outputs": [
    {
     "name": "stdout",
     "output_type": "stream",
     "text": [
      "['Mississippi', 'Northern Mariana Islands', 'Oklahoma', 'Wyoming', 'Minnesota', 'Alaska', 'American Samoa', 'Arkansas', 'New Mexico', 'Indiana', 'Maryland', 'Louisiana', 'Texas', 'Tennessee', 'Iowa', 'Wisconsin', 'Arizona', 'Michigan', 'Kansas', 'Utah', 'Virginia', 'Oregon', 'Connecticut', 'District of Columbia', 'New Hampshire', 'Idaho', 'West Virginia', 'South Carolina', 'California', 'Massachusetts', 'Vermont', 'Georgia', 'North Dakota', 'Pennsylvania', 'Puerto Rico', 'Florida', 'Hawaii', 'Kentucky', 'Rhode Island', 'Nebraska', 'Missouri', 'Ohio', 'Alabama', 'Illinois', 'Virgin Islands', 'South Dakota', 'Colorado', 'New Jersey', 'National', 'Washington', 'North Carolina', 'Maine', 'New York', 'Montana', 'Nevada', 'Delaware', 'Guam']\n"
     ]
    }
   ],
   "source": [
    "# lets build a dictionary where stateName = key, and abbreviation = value \n",
    "states_abbrev_dict = {\n",
    "        'AK': 'Alaska',\n",
    "        'AL': 'Alabama',\n",
    "        'AR': 'Arkansas',\n",
    "        'AS': 'American Samoa',\n",
    "        'AZ': 'Arizona',\n",
    "        'CA': 'California',\n",
    "        'CO': 'Colorado',\n",
    "        'CT': 'Connecticut',\n",
    "        'DC': 'District of Columbia',\n",
    "        'DE': 'Delaware',\n",
    "        'FL': 'Florida',\n",
    "        'GA': 'Georgia',\n",
    "        'GU': 'Guam',\n",
    "        'HI': 'Hawaii',\n",
    "        'IA': 'Iowa',\n",
    "        'ID': 'Idaho',\n",
    "        'IL': 'Illinois',\n",
    "        'IN': 'Indiana',\n",
    "        'KS': 'Kansas',\n",
    "        'KY': 'Kentucky',\n",
    "        'LA': 'Louisiana',\n",
    "        'MA': 'Massachusetts',\n",
    "        'MD': 'Maryland',\n",
    "        'ME': 'Maine',\n",
    "        'MI': 'Michigan',\n",
    "        'MN': 'Minnesota',\n",
    "        'MO': 'Missouri',\n",
    "        'MP': 'Northern Mariana Islands',\n",
    "        'MS': 'Mississippi',\n",
    "        'MT': 'Montana',\n",
    "        'NA': 'National',\n",
    "        'NC': 'North Carolina',\n",
    "        'ND': 'North Dakota',\n",
    "        'NE': 'Nebraska',\n",
    "        'NH': 'New Hampshire',\n",
    "        'NJ': 'New Jersey',\n",
    "        'NM': 'New Mexico',\n",
    "        'NV': 'Nevada',\n",
    "        'NY': 'New York',\n",
    "        'OH': 'Ohio',\n",
    "        'OK': 'Oklahoma',\n",
    "        'OR': 'Oregon',\n",
    "        'PA': 'Pennsylvania',\n",
    "        'PR': 'Puerto Rico',\n",
    "        'RI': 'Rhode Island',\n",
    "        'SC': 'South Carolina',\n",
    "        'SD': 'South Dakota',\n",
    "        'TN': 'Tennessee',\n",
    "        'TX': 'Texas',\n",
    "        'UT': 'Utah',\n",
    "        'VA': 'Virginia',\n",
    "        'VI': 'Virgin Islands',\n",
    "        'VT': 'Vermont',\n",
    "        'WA': 'Washington',\n",
    "        'WI': 'Wisconsin',\n",
    "        'WV': 'West Virginia',\n",
    "        'WY': 'Wyoming'\n",
    "}\n",
    "abbrev_states_dict = {v: k for k, v in states_abbrev_dict.items()}\n",
    "print abbrev_states_dict.keys()"
   ]
  },
  {
   "cell_type": "markdown",
   "metadata": {},
   "source": [
    "### First, a bit about scikit-learn\n",
    "\n",
    "The structure of scikit-learn:\n",
    "\n",
    "Some of the following text is taken from the scikit-learn API paper: http://arxiv.org/pdf/1309.0238v1.pdf\n",
    "\n",
    ">All objects within scikit-learn share a uniform common basic API consisting of\n",
    "three complementary interfaces: an estimator interface for building and ﬁtting\n",
    "models, a predictor interface for making predictions and a transformer interface\n",
    "for converting data.\n",
    "\n",
    ">The estimator interface is at the core of the library. It deﬁnes instantiation\n",
    "mechanisms of objects and exposes a ***fit*** method for learning a model from\n",
    "training data. All supervised and unsupervised learning algorithms (e.g., for\n",
    "classiﬁcation, regression or clustering) are oﬀered as objects implementing this\n",
    "interface. Machine learning tasks like feature extraction, feature selection or\n",
    "dimensionality reduction are also provided as estimators.\n",
    "\n"
   ]
  },
  {
   "cell_type": "markdown",
   "metadata": {},
   "source": [
    "An example along these lines:\n",
    "\n",
    "    model = LinearRegression()\n",
    "    model.fit(X_train, y_train)\n",
    "   \n",
    "\n",
    ">The **predictor** interface extends the notion of an estimator by adding a predict\n",
    "method that takes an array `X_test` and produces predictions for `X_test`, based on\n",
    "the learned parameters of the estimator. In the case of\n",
    "supervised learning estimators, this method typically returns the predicted values computed by the model. \n",
    "\n",
    "    model.predict(X_test)"
   ]
  },
  {
   "cell_type": "markdown",
   "metadata": {},
   "source": [
    "### PART 1: Linear Regression \n",
    "\n",
    "Lets consider a linear regression problem. Let us load the census data set."
   ]
  },
  {
   "cell_type": "code",
   "execution_count": 3,
   "metadata": {},
   "outputs": [
    {
     "data": {
      "text/html": [
       "<div>\n",
       "<table border=\"1\" class=\"dataframe\">\n",
       "  <thead>\n",
       "    <tr style=\"text-align: right;\">\n",
       "      <th></th>\n",
       "      <th>state</th>\n",
       "      <th>per_black</th>\n",
       "      <th>per_hisp</th>\n",
       "      <th>per_white</th>\n",
       "      <th>educ_hs</th>\n",
       "      <th>educ_coll</th>\n",
       "      <th>average_income</th>\n",
       "      <th>median_income</th>\n",
       "      <th>pop_density</th>\n",
       "      <th>vote_pop</th>\n",
       "      <th>older_pop</th>\n",
       "      <th>per_older</th>\n",
       "      <th>per_vote</th>\n",
       "    </tr>\n",
       "  </thead>\n",
       "  <tbody>\n",
       "    <tr>\n",
       "      <th>0</th>\n",
       "      <td>ALABAMA</td>\n",
       "      <td>26.5</td>\n",
       "      <td>4.0</td>\n",
       "      <td>66.8</td>\n",
       "      <td>81.4</td>\n",
       "      <td>21.7</td>\n",
       "      <td>22984</td>\n",
       "      <td>42081</td>\n",
       "      <td>94.4</td>\n",
       "      <td>3.001712e+06</td>\n",
       "      <td>672383.600</td>\n",
       "      <td>0.140</td>\n",
       "      <td>0.625</td>\n",
       "    </tr>\n",
       "    <tr>\n",
       "      <th>1</th>\n",
       "      <td>ALASKA</td>\n",
       "      <td>3.6</td>\n",
       "      <td>5.8</td>\n",
       "      <td>63.7</td>\n",
       "      <td>90.7</td>\n",
       "      <td>27.0</td>\n",
       "      <td>30726</td>\n",
       "      <td>66521</td>\n",
       "      <td>1.2</td>\n",
       "      <td>4.755484e+05</td>\n",
       "      <td>58540.158</td>\n",
       "      <td>0.081</td>\n",
       "      <td>0.658</td>\n",
       "    </tr>\n",
       "    <tr>\n",
       "      <th>2</th>\n",
       "      <td>ARIZONA</td>\n",
       "      <td>4.5</td>\n",
       "      <td>30.1</td>\n",
       "      <td>57.4</td>\n",
       "      <td>85.0</td>\n",
       "      <td>26.3</td>\n",
       "      <td>25680</td>\n",
       "      <td>50448</td>\n",
       "      <td>56.3</td>\n",
       "      <td>3.934881e+06</td>\n",
       "      <td>920515.710</td>\n",
       "      <td>0.142</td>\n",
       "      <td>0.607</td>\n",
       "    </tr>\n",
       "    <tr>\n",
       "      <th>3</th>\n",
       "      <td>ARKANSAS</td>\n",
       "      <td>15.6</td>\n",
       "      <td>6.6</td>\n",
       "      <td>74.2</td>\n",
       "      <td>81.9</td>\n",
       "      <td>19.1</td>\n",
       "      <td>21274</td>\n",
       "      <td>39267</td>\n",
       "      <td>56.0</td>\n",
       "      <td>1.798043e+06</td>\n",
       "      <td>428944.934</td>\n",
       "      <td>0.146</td>\n",
       "      <td>0.612</td>\n",
       "    </tr>\n",
       "    <tr>\n",
       "      <th>4</th>\n",
       "      <td>CALIFORNIA</td>\n",
       "      <td>6.6</td>\n",
       "      <td>38.1</td>\n",
       "      <td>39.7</td>\n",
       "      <td>80.7</td>\n",
       "      <td>30.1</td>\n",
       "      <td>29188</td>\n",
       "      <td>60883</td>\n",
       "      <td>239.1</td>\n",
       "      <td>2.400975e+07</td>\n",
       "      <td>4409953.704</td>\n",
       "      <td>0.117</td>\n",
       "      <td>0.637</td>\n",
       "    </tr>\n",
       "  </tbody>\n",
       "</table>\n",
       "</div>"
      ],
      "text/plain": [
       "        state  per_black  per_hisp  per_white  educ_hs  educ_coll  \\\n",
       "0     ALABAMA       26.5       4.0       66.8     81.4       21.7   \n",
       "1      ALASKA        3.6       5.8       63.7     90.7       27.0   \n",
       "2     ARIZONA        4.5      30.1       57.4     85.0       26.3   \n",
       "3    ARKANSAS       15.6       6.6       74.2     81.9       19.1   \n",
       "4  CALIFORNIA        6.6      38.1       39.7     80.7       30.1   \n",
       "\n",
       "   average_income  median_income  pop_density      vote_pop    older_pop  \\\n",
       "0           22984          42081         94.4  3.001712e+06   672383.600   \n",
       "1           30726          66521          1.2  4.755484e+05    58540.158   \n",
       "2           25680          50448         56.3  3.934881e+06   920515.710   \n",
       "3           21274          39267         56.0  1.798043e+06   428944.934   \n",
       "4           29188          60883        239.1  2.400975e+07  4409953.704   \n",
       "\n",
       "   per_older  per_vote  \n",
       "0      0.140     0.625  \n",
       "1      0.081     0.658  \n",
       "2      0.142     0.607  \n",
       "3      0.146     0.612  \n",
       "4      0.117     0.637  "
      ]
     },
     "execution_count": 3,
     "metadata": {},
     "output_type": "execute_result"
    }
   ],
   "source": [
    "census_data = pd.read_csv(\"./data/census_demographics.csv\")\n",
    "census_data.head()"
   ]
  },
  {
   "cell_type": "markdown",
   "metadata": {},
   "source": [
    "Clean the data set, and have it indexed by the state abbrev."
   ]
  },
  {
   "cell_type": "code",
   "execution_count": 4,
   "metadata": {},
   "outputs": [
    {
     "data": {
      "text/html": [
       "<div>\n",
       "<table border=\"1\" class=\"dataframe\">\n",
       "  <thead>\n",
       "    <tr style=\"text-align: right;\">\n",
       "      <th></th>\n",
       "      <th>per_black</th>\n",
       "      <th>per_hisp</th>\n",
       "      <th>per_white</th>\n",
       "      <th>educ_hs</th>\n",
       "      <th>educ_coll</th>\n",
       "      <th>average_income</th>\n",
       "      <th>median_income</th>\n",
       "      <th>pop_density</th>\n",
       "      <th>vote_pop</th>\n",
       "      <th>older_pop</th>\n",
       "      <th>per_older</th>\n",
       "      <th>per_vote</th>\n",
       "    </tr>\n",
       "    <tr>\n",
       "      <th>state</th>\n",
       "      <th></th>\n",
       "      <th></th>\n",
       "      <th></th>\n",
       "      <th></th>\n",
       "      <th></th>\n",
       "      <th></th>\n",
       "      <th></th>\n",
       "      <th></th>\n",
       "      <th></th>\n",
       "      <th></th>\n",
       "      <th></th>\n",
       "      <th></th>\n",
       "    </tr>\n",
       "  </thead>\n",
       "  <tbody>\n",
       "    <tr>\n",
       "      <th>AL</th>\n",
       "      <td>26.5</td>\n",
       "      <td>4.0</td>\n",
       "      <td>66.8</td>\n",
       "      <td>81.4</td>\n",
       "      <td>21.7</td>\n",
       "      <td>22984</td>\n",
       "      <td>42081</td>\n",
       "      <td>94.4</td>\n",
       "      <td>3.001712e+06</td>\n",
       "      <td>672383.600</td>\n",
       "      <td>0.140</td>\n",
       "      <td>0.625</td>\n",
       "    </tr>\n",
       "    <tr>\n",
       "      <th>AK</th>\n",
       "      <td>3.6</td>\n",
       "      <td>5.8</td>\n",
       "      <td>63.7</td>\n",
       "      <td>90.7</td>\n",
       "      <td>27.0</td>\n",
       "      <td>30726</td>\n",
       "      <td>66521</td>\n",
       "      <td>1.2</td>\n",
       "      <td>4.755484e+05</td>\n",
       "      <td>58540.158</td>\n",
       "      <td>0.081</td>\n",
       "      <td>0.658</td>\n",
       "    </tr>\n",
       "    <tr>\n",
       "      <th>AZ</th>\n",
       "      <td>4.5</td>\n",
       "      <td>30.1</td>\n",
       "      <td>57.4</td>\n",
       "      <td>85.0</td>\n",
       "      <td>26.3</td>\n",
       "      <td>25680</td>\n",
       "      <td>50448</td>\n",
       "      <td>56.3</td>\n",
       "      <td>3.934881e+06</td>\n",
       "      <td>920515.710</td>\n",
       "      <td>0.142</td>\n",
       "      <td>0.607</td>\n",
       "    </tr>\n",
       "    <tr>\n",
       "      <th>AR</th>\n",
       "      <td>15.6</td>\n",
       "      <td>6.6</td>\n",
       "      <td>74.2</td>\n",
       "      <td>81.9</td>\n",
       "      <td>19.1</td>\n",
       "      <td>21274</td>\n",
       "      <td>39267</td>\n",
       "      <td>56.0</td>\n",
       "      <td>1.798043e+06</td>\n",
       "      <td>428944.934</td>\n",
       "      <td>0.146</td>\n",
       "      <td>0.612</td>\n",
       "    </tr>\n",
       "    <tr>\n",
       "      <th>CA</th>\n",
       "      <td>6.6</td>\n",
       "      <td>38.1</td>\n",
       "      <td>39.7</td>\n",
       "      <td>80.7</td>\n",
       "      <td>30.1</td>\n",
       "      <td>29188</td>\n",
       "      <td>60883</td>\n",
       "      <td>239.1</td>\n",
       "      <td>2.400975e+07</td>\n",
       "      <td>4409953.704</td>\n",
       "      <td>0.117</td>\n",
       "      <td>0.637</td>\n",
       "    </tr>\n",
       "  </tbody>\n",
       "</table>\n",
       "</div>"
      ],
      "text/plain": [
       "       per_black  per_hisp  per_white  educ_hs  educ_coll  average_income  \\\n",
       "state                                                                       \n",
       "AL          26.5       4.0       66.8     81.4       21.7           22984   \n",
       "AK           3.6       5.8       63.7     90.7       27.0           30726   \n",
       "AZ           4.5      30.1       57.4     85.0       26.3           25680   \n",
       "AR          15.6       6.6       74.2     81.9       19.1           21274   \n",
       "CA           6.6      38.1       39.7     80.7       30.1           29188   \n",
       "\n",
       "       median_income  pop_density      vote_pop    older_pop  per_older  \\\n",
       "state                                                                     \n",
       "AL             42081         94.4  3.001712e+06   672383.600      0.140   \n",
       "AK             66521          1.2  4.755484e+05    58540.158      0.081   \n",
       "AZ             50448         56.3  3.934881e+06   920515.710      0.142   \n",
       "AR             39267         56.0  1.798043e+06   428944.934      0.146   \n",
       "CA             60883        239.1  2.400975e+07  4409953.704      0.117   \n",
       "\n",
       "       per_vote  \n",
       "state            \n",
       "AL        0.625  \n",
       "AK        0.658  \n",
       "AZ        0.607  \n",
       "AR        0.612  \n",
       "CA        0.637  "
      ]
     },
     "execution_count": 4,
     "metadata": {},
     "output_type": "execute_result"
    }
   ],
   "source": [
    "def capitalize(s):\n",
    "    s = s.title()\n",
    "    return s\n",
    "\n",
    "\n",
    "census_data[\"state\"] = census_data.state.map(capitalize) # for each item in list, apply function 'capitalize' \n",
    "\n",
    "# replace state name with its abbrevation using the dictionary 'abbrev_states_dict'\n",
    "\n",
    "census_data['state']=census_data['state'].replace(abbrev_states_dict)\n",
    "census_data.set_index(\"state\", inplace=True)\n",
    "census_data.head()"
   ]
  },
  {
   "cell_type": "code",
   "execution_count": null,
   "metadata": {
    "collapsed": true
   },
   "outputs": [],
   "source": []
  },
  {
   "cell_type": "markdown",
   "metadata": {},
   "source": [
    "We use a scatterplot matrix (refered to as SPLOM) to visualize some columns of this dataset. In Panda's the SPLOM is a one-liner."
   ]
  },
  {
   "cell_type": "code",
   "execution_count": 19,
   "metadata": {},
   "outputs": [],
   "source": [
    "# from census_data, extract subset of columns of interest \n",
    "\n",
    "smaller_frame=census_data[['educ_coll', 'average_income', 'per_vote']]\n",
    "\n",
    "from pandas.tools.plotting import scatter_matrix\n",
    "\n",
    "axeslist=scatter_matrix(smaller_frame, alpha=0.8, c=\"b\", figsize=(12, 12), diagonal=\"kde\")\n",
    "for ax in axeslist.flatten():\n",
    "    ax.grid(False)"
   ]
  },
  {
   "cell_type": "markdown",
   "metadata": {},
   "source": [
    "Notice how `average_income` seems to have a strong correlation with `educ_coll`. Lets try and regress the former against the latter. One might expect that the average income is higher in states which have \"better\" education systems and send more students to college. First lets confirm our intuition by seeing the co-relations."
   ]
  },
  {
   "cell_type": "code",
   "execution_count": 20,
   "metadata": {},
   "outputs": [
    {
     "data": {
      "text/html": [
       "<div>\n",
       "<table border=\"1\" class=\"dataframe\">\n",
       "  <thead>\n",
       "    <tr style=\"text-align: right;\">\n",
       "      <th></th>\n",
       "      <th>educ_coll</th>\n",
       "      <th>average_income</th>\n",
       "      <th>per_vote</th>\n",
       "    </tr>\n",
       "  </thead>\n",
       "  <tbody>\n",
       "    <tr>\n",
       "      <th>educ_coll</th>\n",
       "      <td>1.000000</td>\n",
       "      <td>0.894066</td>\n",
       "      <td>0.670977</td>\n",
       "    </tr>\n",
       "    <tr>\n",
       "      <th>average_income</th>\n",
       "      <td>0.894066</td>\n",
       "      <td>1.000000</td>\n",
       "      <td>0.732703</td>\n",
       "    </tr>\n",
       "    <tr>\n",
       "      <th>per_vote</th>\n",
       "      <td>0.670977</td>\n",
       "      <td>0.732703</td>\n",
       "      <td>1.000000</td>\n",
       "    </tr>\n",
       "  </tbody>\n",
       "</table>\n",
       "</div>"
      ],
      "text/plain": [
       "                educ_coll  average_income  per_vote\n",
       "educ_coll        1.000000        0.894066  0.670977\n",
       "average_income   0.894066        1.000000  0.732703\n",
       "per_vote         0.670977        0.732703  1.000000"
      ]
     },
     "execution_count": 20,
     "metadata": {},
     "output_type": "execute_result"
    }
   ],
   "source": [
    "smaller_frame.corr()"
   ]
  },
  {
   "cell_type": "code",
   "execution_count": null,
   "metadata": {
    "collapsed": true
   },
   "outputs": [],
   "source": []
  },
  {
   "cell_type": "markdown",
   "metadata": {},
   "source": [
    "We carry out the regression, first standardizing our variables ( subtract the mean and divide by the standard deviation). This is not necessary, but its a good idea anyway. Since `scikit-learn` wants a `n_sample` rows times `n_features` matrix, we need to reshape the `x` variable. We store both an `_vec` variable, which is easier to plot with, as well as the reshaped variable. "
   ]
  },
  {
   "cell_type": "code",
   "execution_count": 21,
   "metadata": {},
   "outputs": [],
   "source": [
    "from sklearn.linear_model import LinearRegression\n",
    "\n",
    "df_nonNormalized =smaller_frame[['educ_coll', 'average_income']].values\n",
    "df_normalized=(df_nonNormalized - df_nonNormalized.mean(axis=0))/df_nonNormalized.std(axis=0)\n",
    "\n",
    "educ_coll_std_vec=df_normalized[:,0]\n",
    "educ_coll_std=educ_coll_std_vec.reshape(-1,1)\n",
    "\n",
    "average_income_std_vec=df_normalized[:,1]\n",
    "average_income_std=average_income_std_vec.reshape(-1,1)\n",
    "\n"
   ]
  },
  {
   "cell_type": "raw",
   "metadata": {},
   "source": [
    "We split the data into a training set and a testing set. By default, 25% of the data is reserved for testing. This is the first of multiple ways that we will see to do this."
   ]
  },
  {
   "cell_type": "code",
   "execution_count": 22,
   "metadata": {},
   "outputs": [],
   "source": [
    "from sklearn.cross_validation import train_test_split\n",
    "\n",
    "X_train, X_test, y_train, y_test = train_test_split(educ_coll_std, average_income_std_vec)"
   ]
  },
  {
   "cell_type": "markdown",
   "metadata": {},
   "source": [
    "We use the training set for the fit, and find what our predictions ought to be on both the training and test set."
   ]
  },
  {
   "cell_type": "code",
   "execution_count": 23,
   "metadata": {},
   "outputs": [],
   "source": [
    "# Train the model\n",
    "\n",
    "model = LinearRegression()\n",
    "model.fit(X_train, y_train)\n",
    "\n",
    "# Perform prediction on the test data\n",
    "predicted_train = model.predict(X_train)\n",
    "predicted_test = model.predict(X_test)\n",
    "\n",
    "\n",
    "trains=X_train.reshape(1,-1).flatten()\n",
    "tests=X_test.reshape(1,-1).flatten()\n",
    "\n"
   ]
  },
  {
   "cell_type": "markdown",
   "metadata": {},
   "source": [
    "The \"slope\" parameters (w), also called weights or coefficients, are stored in the coef_ attribute, while the offset or intercept (b) is stored in the intercept_ attribute.\n",
    "\n",
    "The intercept_ attribute is alwas a single float number, while the coef_ attribute is a NumPy array with one entry per input feature. As we only have a single input feature, we have only a single entry. "
   ]
  },
  {
   "cell_type": "code",
   "execution_count": 24,
   "metadata": {},
   "outputs": [
    {
     "name": "stdout",
     "output_type": "stream",
     "text": [
      "Coeff: [ 0.8351184]\n",
      "Intercept: -0.0389260611515\n"
     ]
    }
   ],
   "source": [
    "print \"Coeff:\", model.coef_\n",
    "print \"Intercept:\",  model.intercept_"
   ]
  },
  {
   "cell_type": "markdown",
   "metadata": {},
   "source": [
    "We plot the scatter against the fit for both training and test data."
   ]
  },
  {
   "cell_type": "code",
   "execution_count": 90,
   "metadata": {},
   "outputs": [
    {
     "data": {
      "text/plain": [
       "[<matplotlib.lines.Line2D at 0x7f9adae46b50>]"
      ]
     },
     "execution_count": 90,
     "metadata": {},
     "output_type": "execute_result"
    },
    {
     "data": {
      "image/png": "[encoded data removed]",
      "text/plain": [
       "<matplotlib.figure.Figure at 0x7f9ae0035710>"
      ]
     },
     "metadata": {},
     "output_type": "display_data"
    }
   ],
   "source": [
    "plt.scatter(educ_coll_std_vec, average_income_std_vec,c='r') # will plot on same figure \n",
    "plt.plot(trains, predicted_train, c='g', alpha=0.5)  # line \n",
    "plt.plot(tests, predicted_test, c='b', alpha=0.2)"
   ]
  },
  {
   "cell_type": "markdown",
   "metadata": {},
   "source": [
    "We then look at the residuals, again on both sets."
   ]
  },
  {
   "cell_type": "code",
   "execution_count": 25,
   "metadata": {},
   "outputs": [
    {
     "data": {
      "text/plain": [
       "<matplotlib.collections.PathCollection at 0x10eea3610>"
      ]
     },
     "execution_count": 25,
     "metadata": {},
     "output_type": "execute_result"
    }
   ],
   "source": [
    "plt.scatter(predicted_test, predicted_test- y_test, c='g', s=40)\n",
    "plt.scatter(predicted_train, predicted_train- y_train, c='b', s=40, alpha=0.5)\n",
    "plt.plot([0.4,2],[0,0])"
   ]
  },
  {
   "cell_type": "markdown",
   "metadata": {},
   "source": [
    "We ask scikit-learn to spit out the $R^2$, which provides the accuracy of the model on the training and testing dataset. If we find the $R^2$ is high for the training dataset, but low for the testing dataset, then that implies that the model was overfitting.... esentially, learning the patterns on the training dataset and not generalizing well on other datatsets. "
   ]
  },
  {
   "cell_type": "code",
   "execution_count": 17,
   "metadata": {},
   "outputs": [
    {
     "data": {
      "text/plain": [
       "(0.81057859819056099, 0.74693264409200921)"
      ]
     },
     "execution_count": 17,
     "metadata": {},
     "output_type": "execute_result"
    }
   ],
   "source": [
    "model.score(X_train, y_train), model.score(X_test, y_test)"
   ]
  },
  {
   "cell_type": "markdown",
   "metadata": {},
   "source": [
    "TODO: Try to reapply linear regression on a larger portion of the dataset. Recall, we only considered the features 'eduo_call' and 'average_income'.\n",
    "\n"
   ]
  }
 ],
 "metadata": {
  "kernelspec": {
   "display_name": "Python 2",
   "language": "python",
   "name": "python2"
  },
  "language_info": {
   "codemirror_mode": {
    "name": "ipython",
    "version": 2
   },
   "file_extension": ".py",
   "mimetype": "text/x-python",
   "name": "python",
   "nbconvert_exporter": "python",
   "pygments_lexer": "ipython2",
   "version": "2.7.12"
  }
 },
 "nbformat": 4,
 "nbformat_minor": 1
}
