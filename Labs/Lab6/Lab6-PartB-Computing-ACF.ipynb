{
 "cells": [
  {
   "cell_type": "markdown",
   "metadata": {},
   "source": [
    "# Lab 6 - Part A - Computing ACF\n",
    "\n",
    "A test to calculate the autocorrelation function in python.\n",
    "\n",
    "The equation for estimating autoacrrelation that we would like to use is taken from http://en.wikipedia.org/wiki/Autocorrelation, section Estimation.\n",
    "\n",
    "Unfortunately, numpy and Pandas don't have this function built in, so we have to write the code ourselves. The code below creates a synethic dataset and computes the autocorrelation function (ACF)."
   ]
  },
  {
   "cell_type": "code",
   "execution_count": 1,
   "metadata": {},
   "outputs": [
    {
     "data": {
      "image/png": "[encoded data removed]",
      "text/plain": [
       "<matplotlib.figure.Figure at 0x106597a50>"
      ]
     },
     "metadata": {},
     "output_type": "display_data"
    }
   ],
   "source": [
    "#! /usr/bin/env python\n",
    "\n",
    "import matplotlib.pyplot as plt\n",
    "import numpy\n",
    "\n",
    "# calculates autocorrelation function of a time series\n",
    "# uses a top hot function as the input time series\n",
    "# and plots the autocorrelation function which will be\n",
    "# a triangle function\n",
    "#\n",
    "# https://en.wikipedia.org/wiki/Autocorrelation#Estimation\n",
    "\n",
    "# create an m x n array\n",
    "m = 1\n",
    "n = 10\n",
    "x = numpy.zeros(shape=(m,n))\n",
    "\n",
    "# calculate the autocorrelation for each m-th row\n",
    "acorrs = []\n",
    "for row in x:\n",
    "\n",
    "    # make each m-th row a top hat function\n",
    "    row[4:6] = 1\n",
    "\n",
    "    # subtract the mean of the time series\n",
    "    y = row - row.mean()\n",
    "\n",
    "    # autocorrelate\n",
    "    acorr = numpy.correlate(y, y, mode=\"full\")\n",
    "\n",
    "    # take only the second half of the time series because\n",
    "    # correlate returns the autocorrelation from a negative time\n",
    "    # and not zero\n",
    "    acorr = acorr[acorr.size/2:]\n",
    "\n",
    "    # normalize by the variance\n",
    "    acorr /= ( row.var() * numpy.arange(row.size, 0, -1) )\n",
    "\n",
    "    # add to list of autocorrelations time series\n",
    "    acorrs.append(acorr)\n",
    "\n",
    "# get sample times for plotting\n",
    "t = numpy.arange(0, n, 1)\n",
    "\n",
    "# plot\n",
    "for acorr in acorrs:\n",
    "    plt.plot(t, acorr)\n",
    "    \n",
    "plt.ylabel(\"Autocorrelation Function\")\n",
    "plt.xlabel(\"Time (s)\")\n",
    "plt.show()"
   ]
  }
 ],
 "metadata": {
  "kernelspec": {
   "display_name": "Python 2",
   "language": "python",
   "name": "python2"
  },
  "language_info": {
   "codemirror_mode": {
    "name": "ipython",
    "version": 2
   },
   "file_extension": ".py",
   "mimetype": "text/x-python",
   "name": "python",
   "nbconvert_exporter": "python",
   "pygments_lexer": "ipython2",
   "version": "2.7.12"
  }
 },
 "nbformat": 4,
 "nbformat_minor": 2
}
