{
 "cells": [
  {
   "cell_type": "markdown",
   "metadata": {},
   "source": [
    "### Exploratory Data Analysis \n",
    "\n"
   ]
  },
  {
   "cell_type": "markdown",
   "metadata": {},
   "source": [
    "The HOUSES dataset contains a collection of recent real estate listings in San Luis Obispo county and around it. The dataset is as a CSV file. The dataset contains the following fields:\n",
    "\n",
    "1. MLS: Multiple listing service number for the house (unique ID).\n",
    "2. Location: city/town where the house is located. Most locations are in San Luis Obispo county and northern Santa Barbara county (Santa Maria-Orcutt, Lompoc, Guadelupe, Los Alamos), but there some out of area locations as well.\n",
    "4. Price: the most recent listing price of the house (in dollars).\n",
    "5. Bedrooms: number of bedrooms.\n",
    "6. Bathrooms: number of bathrooms.\n",
    "7. Size: size of the house in square feet.\n",
    "8. Price/SQ.ft: price of the house per square foot.\n",
    "9. Status: type of sale. Thee types are represented in the dataset: Short Sale, Foreclosure and Regular.\n",
    "\n",
    "Lets import the required libraries that we will be using later. "
   ]
  },
  {
   "cell_type": "code",
   "execution_count": 2,
   "metadata": {
    "collapsed": true
   },
   "outputs": [],
   "source": [
    "from numpy import *\n",
    "import pandas as pd "
   ]
  },
  {
   "cell_type": "markdown",
   "metadata": {},
   "source": [
    "Let's load the dataset into a pandas dataframe and have a look at the headers."
   ]
  },
  {
   "cell_type": "code",
   "execution_count": 3,
   "metadata": {
    "scrolled": true
   },
   "outputs": [
    {
     "name": "stdout",
     "output_type": "stream",
     "text": [
      "781\n",
      "['MLS', 'Location', 'Price', 'Bedrooms', 'Bathrooms', 'Size', 'Price/SQ.Ft', 'Status']\n"
     ]
    }
   ],
   "source": [
    "df = pd.read_csv('data.csv', sep=',', error_bad_lines=False) # read fie as a dataframe\n",
    "\n",
    "print len(df)    # print number of rows\n",
    "print list(df)   # print 1st ten headers"
   ]
  },
  {
   "cell_type": "markdown",
   "metadata": {},
   "source": [
    "Lets take a look at the first 2 rows of the dataframe."
   ]
  },
  {
   "cell_type": "code",
   "execution_count": 17,
   "metadata": {},
   "outputs": [
    {
     "data": {
      "text/html": [
       "<div>\n",
       "<table border=\"1\" class=\"dataframe\">\n",
       "  <thead>\n",
       "    <tr style=\"text-align: right;\">\n",
       "      <th></th>\n",
       "      <th>MLS</th>\n",
       "      <th>Location</th>\n",
       "      <th>Price</th>\n",
       "      <th>Bedrooms</th>\n",
       "      <th>Bathrooms</th>\n",
       "      <th>Size</th>\n",
       "      <th>Price/SQ.Ft</th>\n",
       "      <th>Status</th>\n",
       "    </tr>\n",
       "  </thead>\n",
       "  <tbody>\n",
       "    <tr>\n",
       "      <th>0</th>\n",
       "      <td>132842</td>\n",
       "      <td>Arroyo Grande</td>\n",
       "      <td>795000</td>\n",
       "      <td>3</td>\n",
       "      <td>3</td>\n",
       "      <td>2371</td>\n",
       "      <td>335.30</td>\n",
       "      <td>Short Sale</td>\n",
       "    </tr>\n",
       "    <tr>\n",
       "      <th>1</th>\n",
       "      <td>134364</td>\n",
       "      <td>Paso Robles</td>\n",
       "      <td>399000</td>\n",
       "      <td>4</td>\n",
       "      <td>3</td>\n",
       "      <td>2818</td>\n",
       "      <td>141.59</td>\n",
       "      <td>Short Sale</td>\n",
       "    </tr>\n",
       "  </tbody>\n",
       "</table>\n",
       "</div>"
      ],
      "text/plain": [
       "      MLS       Location   Price  Bedrooms  Bathrooms  Size  Price/SQ.Ft  \\\n",
       "0  132842  Arroyo Grande  795000         3          3  2371       335.30   \n",
       "1  134364    Paso Robles  399000         4          3  2818       141.59   \n",
       "\n",
       "       Status  \n",
       "0  Short Sale  \n",
       "1  Short Sale  "
      ]
     },
     "execution_count": 17,
     "metadata": {},
     "output_type": "execute_result"
    }
   ],
   "source": [
    "df.head(2)"
   ]
  },
  {
   "cell_type": "markdown",
   "metadata": {},
   "source": [
    "Next, lets look at a specific column or feature in the dataframe."
   ]
  },
  {
   "cell_type": "code",
   "execution_count": 4,
   "metadata": {},
   "outputs": [
    {
     "name": "stdout",
     "output_type": "stream",
     "text": [
      "Bedrooms: [ 3  4  2  7  1  5  0  6 10]\n",
      "Bathrooms: [ 3  4  1  2  5  7  6 11]\n"
     ]
    }
   ],
   "source": [
    "print \"Bedrooms:\", df.Bedrooms.unique()\n",
    "print \"Bathrooms:\", df.Bathrooms.unique()"
   ]
  },
  {
   "cell_type": "markdown",
   "metadata": {},
   "source": [
    "What if we want to drop a column from the dataframe?"
   ]
  },
  {
   "cell_type": "code",
   "execution_count": 119,
   "metadata": {
    "collapsed": true
   },
   "outputs": [],
   "source": [
    "df = df.drop('Location', 1)"
   ]
  },
  {
   "cell_type": "markdown",
   "metadata": {},
   "source": [
    "Let's rename the first column.\n",
    "\n",
    "Hint: A Google search for 'python pandas dataframe rename' points you at this documentation (http://pandas-docs.github.io/pandas-docs-travis/)."
   ]
  },
  {
   "cell_type": "code",
   "execution_count": 18,
   "metadata": {},
   "outputs": [
    {
     "name": "stdout",
     "output_type": "stream",
     "text": [
      "Index([u'MLS', u'Location', u'Price', u'Bedrooms', u'Bathrooms', u'Size',\n",
      "       u'Price/SQ.Ft', u'Status'],\n",
      "      dtype='object')\n"
     ]
    },
    {
     "data": {
      "text/plain": [
       "Index([u'listing id', u'Location', u'Price', u'Bedrooms', u'Bathrooms',\n",
       "       u'Size', u'Price/SQ.Ft', u'Status'],\n",
       "      dtype='object')"
      ]
     },
     "execution_count": 18,
     "metadata": {},
     "output_type": "execute_result"
    }
   ],
   "source": [
    "print df.columns\n",
    "df.rename(columns={df.columns[0]:'listing id'}, inplace=True)\n",
    "df.columns"
   ]
  },
  {
   "cell_type": "markdown",
   "metadata": {},
   "source": [
    "What is the max, min, mean/avg, and standard deviation of the column 'bedroomcnt'?"
   ]
  },
  {
   "cell_type": "code",
   "execution_count": 5,
   "metadata": {
    "scrolled": true
   },
   "outputs": [
    {
     "name": "stdout",
     "output_type": "stream",
     "text": [
      "Min:  19.33\n",
      "Max:  1144.64\n",
      "Std:  115.082145976\n",
      "Avg:  213.131293214\n"
     ]
    }
   ],
   "source": [
    "print \"Min: \" , min(df['Price/SQ.Ft'])\n",
    "print \"Max: \" , max(df['Price/SQ.Ft'])\n",
    "print \"Std: \" , df['Price/SQ.Ft'].std()\n",
    "print \"Avg: \" , df['Price/SQ.Ft'].mean()\n",
    "\n"
   ]
  },
  {
   "cell_type": "markdown",
   "metadata": {},
   "source": [
    "Plot the distribution of 'yearbuild' using matplotlib"
   ]
  },
  {
   "cell_type": "code",
   "execution_count": 13,
   "metadata": {
    "scrolled": false
   },
   "outputs": [
    {
     "data": {
      "image/png": "[encoded data removed]",
      "text/plain": [
       "<matplotlib.figure.Figure at 0x10759eed0>"
      ]
     },
     "metadata": {},
     "output_type": "display_data"
    }
   ],
   "source": [
    "import matplotlib.mlab as mlab\n",
    "import matplotlib.pyplot as plt\n",
    "import numpy as np\n",
    "\n",
    "# remove NAN from array\n",
    "x = df['Price/SQ.Ft'][~np.isnan(df['Price/SQ.Ft'])]\n",
    "\n",
    "# plot histogram \n",
    "n, bins, patches = plt.hist(x, 30, normed=1, facecolor='blue')\n",
    "plt.show()"
   ]
  },
  {
   "cell_type": "markdown",
   "metadata": {},
   "source": [
    "One of the best ways to inspect data is visualize it. One way to do this is by using a scatter plot. A scatter plot of the data puts one feature along the x-axis and another along the y-axis, and draws a dot for each data point. \n",
    "\n",
    "Since its difficult to visualize more than 2 or 3 features, one possibility is to use a pair plot that looks at all possible pairs of features. The pair plot shows the interaction of each pair of features inorder to visualize any correlation between features. "
   ]
  },
  {
   "cell_type": "code",
   "execution_count": 15,
   "metadata": {
    "scrolled": true
   },
   "outputs": [
    {
     "name": "stdout",
     "output_type": "stream",
     "text": [
      "(781, 8)\n"
     ]
    },
    {
     "data": {
      "image/png": "[encoded data removed]",
      "text/plain": [
       "<matplotlib.figure.Figure at 0x10821af10>"
      ]
     },
     "metadata": {},
     "output_type": "display_data"
    }
   ],
   "source": [
    "# import the scatter_matrix functionality\n",
    "import random as rand\n",
    "from pandas.tools.plotting import scatter_matrix\n",
    "import matplotlib.pyplot as plt\n",
    "\n",
    "print df.shape\n",
    "x = df.iloc[:,[1,2,3,4,5]] # extract only 5 columns from dataframe (using index)\n",
    "y = x.dropna(thresh=2) # drop any rows that have 2 or more fields as NAN  \n",
    "a = pd.scatter_matrix(x, alpha=0.05, figsize=(5,5), diagonal='hist')\n",
    "plt.show()"
   ]
  },
  {
   "cell_type": "markdown",
   "metadata": {},
   "source": [
    "Let's create a crosstabulation or contingency table of the factors.\n",
    "\n",
    "Hint: A Google search for 'python pandas cross tabulation' points you at this documentation (http://pandas.pydata.org/pandas-docs/stable/reshaping.html#cross-tabulations)."
   ]
  },
  {
   "cell_type": "code",
   "execution_count": 16,
   "metadata": {},
   "outputs": [
    {
     "data": {
      "text/html": [
       "<div>\n",
       "<table border=\"1\" class=\"dataframe\">\n",
       "  <thead>\n",
       "    <tr style=\"text-align: right;\">\n",
       "      <th>Bathrooms</th>\n",
       "      <th>1</th>\n",
       "      <th>2</th>\n",
       "      <th>3</th>\n",
       "      <th>4</th>\n",
       "      <th>5</th>\n",
       "      <th>6</th>\n",
       "      <th>7</th>\n",
       "      <th>11</th>\n",
       "    </tr>\n",
       "    <tr>\n",
       "      <th>Bedrooms</th>\n",
       "      <th></th>\n",
       "      <th></th>\n",
       "      <th></th>\n",
       "      <th></th>\n",
       "      <th></th>\n",
       "      <th></th>\n",
       "      <th></th>\n",
       "      <th></th>\n",
       "    </tr>\n",
       "  </thead>\n",
       "  <tbody>\n",
       "    <tr>\n",
       "      <th>0</th>\n",
       "      <td>2</td>\n",
       "      <td>0</td>\n",
       "      <td>0</td>\n",
       "      <td>0</td>\n",
       "      <td>0</td>\n",
       "      <td>0</td>\n",
       "      <td>0</td>\n",
       "      <td>0</td>\n",
       "    </tr>\n",
       "    <tr>\n",
       "      <th>1</th>\n",
       "      <td>10</td>\n",
       "      <td>1</td>\n",
       "      <td>0</td>\n",
       "      <td>0</td>\n",
       "      <td>0</td>\n",
       "      <td>0</td>\n",
       "      <td>0</td>\n",
       "      <td>0</td>\n",
       "    </tr>\n",
       "    <tr>\n",
       "      <th>2</th>\n",
       "      <td>33</td>\n",
       "      <td>78</td>\n",
       "      <td>12</td>\n",
       "      <td>0</td>\n",
       "      <td>0</td>\n",
       "      <td>0</td>\n",
       "      <td>0</td>\n",
       "      <td>0</td>\n",
       "    </tr>\n",
       "    <tr>\n",
       "      <th>3</th>\n",
       "      <td>20</td>\n",
       "      <td>286</td>\n",
       "      <td>119</td>\n",
       "      <td>5</td>\n",
       "      <td>1</td>\n",
       "      <td>0</td>\n",
       "      <td>0</td>\n",
       "      <td>0</td>\n",
       "    </tr>\n",
       "    <tr>\n",
       "      <th>4</th>\n",
       "      <td>0</td>\n",
       "      <td>76</td>\n",
       "      <td>76</td>\n",
       "      <td>19</td>\n",
       "      <td>6</td>\n",
       "      <td>0</td>\n",
       "      <td>0</td>\n",
       "      <td>0</td>\n",
       "    </tr>\n",
       "    <tr>\n",
       "      <th>5</th>\n",
       "      <td>0</td>\n",
       "      <td>3</td>\n",
       "      <td>16</td>\n",
       "      <td>9</td>\n",
       "      <td>0</td>\n",
       "      <td>2</td>\n",
       "      <td>1</td>\n",
       "      <td>0</td>\n",
       "    </tr>\n",
       "    <tr>\n",
       "      <th>6</th>\n",
       "      <td>0</td>\n",
       "      <td>0</td>\n",
       "      <td>3</td>\n",
       "      <td>0</td>\n",
       "      <td>0</td>\n",
       "      <td>0</td>\n",
       "      <td>1</td>\n",
       "      <td>0</td>\n",
       "    </tr>\n",
       "    <tr>\n",
       "      <th>7</th>\n",
       "      <td>0</td>\n",
       "      <td>0</td>\n",
       "      <td>0</td>\n",
       "      <td>0</td>\n",
       "      <td>1</td>\n",
       "      <td>0</td>\n",
       "      <td>0</td>\n",
       "      <td>0</td>\n",
       "    </tr>\n",
       "    <tr>\n",
       "      <th>10</th>\n",
       "      <td>0</td>\n",
       "      <td>0</td>\n",
       "      <td>0</td>\n",
       "      <td>0</td>\n",
       "      <td>0</td>\n",
       "      <td>0</td>\n",
       "      <td>0</td>\n",
       "      <td>1</td>\n",
       "    </tr>\n",
       "  </tbody>\n",
       "</table>\n",
       "</div>"
      ],
      "text/plain": [
       "Bathrooms  1    2    3   4   5   6   7   11\n",
       "Bedrooms                                   \n",
       "0           2    0    0   0   0   0   0   0\n",
       "1          10    1    0   0   0   0   0   0\n",
       "2          33   78   12   0   0   0   0   0\n",
       "3          20  286  119   5   1   0   0   0\n",
       "4           0   76   76  19   6   0   0   0\n",
       "5           0    3   16   9   0   2   1   0\n",
       "6           0    0    3   0   0   0   1   0\n",
       "7           0    0    0   0   1   0   0   0\n",
       "10          0    0    0   0   0   0   0   1"
      ]
     },
     "execution_count": 16,
     "metadata": {},
     "output_type": "execute_result"
    }
   ],
   "source": [
    "pd.crosstab(df.Bedrooms, df.Bathrooms)"
   ]
  },
  {
   "cell_type": "code",
   "execution_count": 37,
   "metadata": {},
   "outputs": [],
   "source": [
    "fig=plt.figure()\n",
    "plt.scatter(df.Price, df.Size)\n",
    "axis = fig.gca() #get current axis\n",
    "axis.set_title('Price vs Size')\n",
    "axis.set_xlabel('Price')\n",
    "axis.set_ylabel('Size')\n",
    "fig.canvas.draw()"
   ]
  },
  {
   "cell_type": "markdown",
   "metadata": {},
   "source": [
    "## Pandas Data Munging"
   ]
  },
  {
   "cell_type": "markdown",
   "metadata": {},
   "source": [
    "The first concept we deal with here is pandas groupby. The idea is to group a dataframe by the values of a particular factor variable. The documentation can be found here (http://pandas-docs.github.io/pandas-docs-travis/)."
   ]
  },
  {
   "cell_type": "code",
   "execution_count": 43,
   "metadata": {},
   "outputs": [
    {
     "data": {
      "text/html": [
       "<div>\n",
       "<table border=\"1\" class=\"dataframe\">\n",
       "  <thead>\n",
       "    <tr style=\"text-align: right;\">\n",
       "      <th></th>\n",
       "      <th>listing id</th>\n",
       "      <th>Location</th>\n",
       "      <th>Price</th>\n",
       "      <th>Bedrooms</th>\n",
       "      <th>Bathrooms</th>\n",
       "      <th>Size</th>\n",
       "      <th>Price/SQ.Ft</th>\n",
       "      <th>Status</th>\n",
       "    </tr>\n",
       "  </thead>\n",
       "  <tbody>\n",
       "    <tr>\n",
       "      <th>0</th>\n",
       "      <td>132842</td>\n",
       "      <td>Arroyo Grande</td>\n",
       "      <td>795000</td>\n",
       "      <td>3</td>\n",
       "      <td>3</td>\n",
       "      <td>2371</td>\n",
       "      <td>335.30</td>\n",
       "      <td>Short Sale</td>\n",
       "    </tr>\n",
       "    <tr>\n",
       "      <th>1</th>\n",
       "      <td>134364</td>\n",
       "      <td>Paso Robles</td>\n",
       "      <td>399000</td>\n",
       "      <td>4</td>\n",
       "      <td>3</td>\n",
       "      <td>2818</td>\n",
       "      <td>141.59</td>\n",
       "      <td>Short Sale</td>\n",
       "    </tr>\n",
       "    <tr>\n",
       "      <th>2</th>\n",
       "      <td>135141</td>\n",
       "      <td>Paso Robles</td>\n",
       "      <td>545000</td>\n",
       "      <td>4</td>\n",
       "      <td>3</td>\n",
       "      <td>3032</td>\n",
       "      <td>179.75</td>\n",
       "      <td>Short Sale</td>\n",
       "    </tr>\n",
       "    <tr>\n",
       "      <th>3</th>\n",
       "      <td>135712</td>\n",
       "      <td>Morro Bay</td>\n",
       "      <td>909000</td>\n",
       "      <td>4</td>\n",
       "      <td>4</td>\n",
       "      <td>3540</td>\n",
       "      <td>256.78</td>\n",
       "      <td>Short Sale</td>\n",
       "    </tr>\n",
       "    <tr>\n",
       "      <th>4</th>\n",
       "      <td>136282</td>\n",
       "      <td>Santa Maria-Orcutt</td>\n",
       "      <td>109900</td>\n",
       "      <td>3</td>\n",
       "      <td>1</td>\n",
       "      <td>1249</td>\n",
       "      <td>87.99</td>\n",
       "      <td>Short Sale</td>\n",
       "    </tr>\n",
       "    <tr>\n",
       "      <th>53</th>\n",
       "      <td>143436</td>\n",
       "      <td>Templeton</td>\n",
       "      <td>1399000</td>\n",
       "      <td>4</td>\n",
       "      <td>3</td>\n",
       "      <td>6500</td>\n",
       "      <td>215.23</td>\n",
       "      <td>Foreclosure</td>\n",
       "    </tr>\n",
       "    <tr>\n",
       "      <th>56</th>\n",
       "      <td>143534</td>\n",
       "      <td>Morro Bay</td>\n",
       "      <td>789000</td>\n",
       "      <td>3</td>\n",
       "      <td>3</td>\n",
       "      <td>2100</td>\n",
       "      <td>375.71</td>\n",
       "      <td>Foreclosure</td>\n",
       "    </tr>\n",
       "    <tr>\n",
       "      <th>63</th>\n",
       "      <td>144314</td>\n",
       "      <td>Morro Bay</td>\n",
       "      <td>899000</td>\n",
       "      <td>3</td>\n",
       "      <td>3</td>\n",
       "      <td>2430</td>\n",
       "      <td>369.96</td>\n",
       "      <td>Foreclosure</td>\n",
       "    </tr>\n",
       "    <tr>\n",
       "      <th>64</th>\n",
       "      <td>144316</td>\n",
       "      <td>Morro Bay</td>\n",
       "      <td>1045000</td>\n",
       "      <td>3</td>\n",
       "      <td>3</td>\n",
       "      <td>2100</td>\n",
       "      <td>497.62</td>\n",
       "      <td>Foreclosure</td>\n",
       "    </tr>\n",
       "    <tr>\n",
       "      <th>65</th>\n",
       "      <td>144318</td>\n",
       "      <td>Morro Bay</td>\n",
       "      <td>774000</td>\n",
       "      <td>2</td>\n",
       "      <td>2</td>\n",
       "      <td>1550</td>\n",
       "      <td>499.35</td>\n",
       "      <td>Foreclosure</td>\n",
       "    </tr>\n",
       "    <tr>\n",
       "      <th>617</th>\n",
       "      <td>154325</td>\n",
       "      <td>Lompoc</td>\n",
       "      <td>149900</td>\n",
       "      <td>3</td>\n",
       "      <td>1</td>\n",
       "      <td>1000</td>\n",
       "      <td>149.90</td>\n",
       "      <td>Regular</td>\n",
       "    </tr>\n",
       "    <tr>\n",
       "      <th>621</th>\n",
       "      <td>154329</td>\n",
       "      <td>Santa Maria-Orcutt</td>\n",
       "      <td>177000</td>\n",
       "      <td>3</td>\n",
       "      <td>2</td>\n",
       "      <td>1500</td>\n",
       "      <td>118.00</td>\n",
       "      <td>Regular</td>\n",
       "    </tr>\n",
       "    <tr>\n",
       "      <th>622</th>\n",
       "      <td>154330</td>\n",
       "      <td>Nipomo</td>\n",
       "      <td>122500</td>\n",
       "      <td>4</td>\n",
       "      <td>2</td>\n",
       "      <td>1248</td>\n",
       "      <td>98.16</td>\n",
       "      <td>Regular</td>\n",
       "    </tr>\n",
       "    <tr>\n",
       "      <th>626</th>\n",
       "      <td>154343</td>\n",
       "      <td>Arroyo Grande</td>\n",
       "      <td>425000</td>\n",
       "      <td>3</td>\n",
       "      <td>2</td>\n",
       "      <td>1437</td>\n",
       "      <td>295.76</td>\n",
       "      <td>Regular</td>\n",
       "    </tr>\n",
       "    <tr>\n",
       "      <th>628</th>\n",
       "      <td>154345</td>\n",
       "      <td>Nipomo</td>\n",
       "      <td>175000</td>\n",
       "      <td>2</td>\n",
       "      <td>2</td>\n",
       "      <td>1152</td>\n",
       "      <td>151.91</td>\n",
       "      <td>Regular</td>\n",
       "    </tr>\n",
       "  </tbody>\n",
       "</table>\n",
       "</div>"
      ],
      "text/plain": [
       "     listing id            Location    Price  Bedrooms  Bathrooms  Size  \\\n",
       "0        132842       Arroyo Grande   795000         3          3  2371   \n",
       "1        134364         Paso Robles   399000         4          3  2818   \n",
       "2        135141         Paso Robles   545000         4          3  3032   \n",
       "3        135712           Morro Bay   909000         4          4  3540   \n",
       "4        136282  Santa Maria-Orcutt   109900         3          1  1249   \n",
       "53       143436           Templeton  1399000         4          3  6500   \n",
       "56       143534           Morro Bay   789000         3          3  2100   \n",
       "63       144314           Morro Bay   899000         3          3  2430   \n",
       "64       144316           Morro Bay  1045000         3          3  2100   \n",
       "65       144318           Morro Bay   774000         2          2  1550   \n",
       "617      154325              Lompoc   149900         3          1  1000   \n",
       "621      154329  Santa Maria-Orcutt   177000         3          2  1500   \n",
       "622      154330              Nipomo   122500         4          2  1248   \n",
       "626      154343       Arroyo Grande   425000         3          2  1437   \n",
       "628      154345              Nipomo   175000         2          2  1152   \n",
       "\n",
       "     Price/SQ.Ft       Status  \n",
       "0         335.30   Short Sale  \n",
       "1         141.59   Short Sale  \n",
       "2         179.75   Short Sale  \n",
       "3         256.78   Short Sale  \n",
       "4          87.99   Short Sale  \n",
       "53        215.23  Foreclosure  \n",
       "56        375.71  Foreclosure  \n",
       "63        369.96  Foreclosure  \n",
       "64        497.62  Foreclosure  \n",
       "65        499.35  Foreclosure  \n",
       "617       149.90      Regular  \n",
       "621       118.00      Regular  \n",
       "622        98.16      Regular  \n",
       "626       295.76      Regular  \n",
       "628       151.91      Regular  "
      ]
     },
     "execution_count": 43,
     "metadata": {},
     "output_type": "execute_result"
    }
   ],
   "source": [
    "status_groupby = df.groupby('Status')\n",
    "status_groupby.head()"
   ]
  },
  {
   "cell_type": "markdown",
   "metadata": {},
   "source": [
    "The function groupby gives you a dictionary-like object, with the keys being the values of the factor, and the values being the corresponding subsets of the dataframe."
   ]
  },
  {
   "cell_type": "code",
   "execution_count": 47,
   "metadata": {},
   "outputs": [
    {
     "name": "stdout",
     "output_type": "stream",
     "text": [
      "( key, len(value) ) = ( Foreclosure , 162 )\n",
      "( key, len(value) ) = ( Regular , 103 )\n",
      "( key, len(value) ) = ( Short Sale , 516 )\n"
     ]
    }
   ],
   "source": [
    "# lets print the number of rows per each type of status \n",
    "for key, value in status_groupby:\n",
    "    print \"( key, len(value) ) = (\", key, \",\", len(value), \")\"\n",
    "    v=value"
   ]
  },
  {
   "cell_type": "markdown",
   "metadata": {},
   "source": [
    "The groupby function also acts like an object that can be mapped. After the mapping is complete, the rows are put together (reduced) into a larger dataframe. For example, using the describe function. The documentation of the describe function can be found here (http://pandas-docs.github.io/pandas-docs-travis/)."
   ]
  },
  {
   "cell_type": "code",
   "execution_count": 52,
   "metadata": {},
   "outputs": [
    {
     "name": "stdout",
     "output_type": "stream",
     "text": [
      "<class 'pandas.core.frame.DataFrame'>\n"
     ]
    },
    {
     "data": {
      "text/html": [
       "<div>\n",
       "<table border=\"1\" class=\"dataframe\">\n",
       "  <thead>\n",
       "    <tr style=\"text-align: right;\">\n",
       "      <th></th>\n",
       "      <th></th>\n",
       "      <th>Bathrooms</th>\n",
       "      <th>Bedrooms</th>\n",
       "      <th>Price</th>\n",
       "      <th>Size</th>\n",
       "      <th>Price/SQ.Ft</th>\n",
       "    </tr>\n",
       "    <tr>\n",
       "      <th>Status</th>\n",
       "      <th></th>\n",
       "      <th></th>\n",
       "      <th></th>\n",
       "      <th></th>\n",
       "      <th></th>\n",
       "      <th></th>\n",
       "    </tr>\n",
       "  </thead>\n",
       "  <tbody>\n",
       "    <tr>\n",
       "      <th rowspan=\"8\" valign=\"top\">Foreclosure</th>\n",
       "      <th>count</th>\n",
       "      <td>162.000000</td>\n",
       "      <td>162.000000</td>\n",
       "      <td>1.620000e+02</td>\n",
       "      <td>162.000000</td>\n",
       "      <td>162.000000</td>\n",
       "    </tr>\n",
       "    <tr>\n",
       "      <th>mean</th>\n",
       "      <td>2.314815</td>\n",
       "      <td>3.216049</td>\n",
       "      <td>3.632146e+05</td>\n",
       "      <td>1762.493827</td>\n",
       "      <td>200.221605</td>\n",
       "    </tr>\n",
       "    <tr>\n",
       "      <th>std</th>\n",
       "      <td>0.807359</td>\n",
       "      <td>0.956956</td>\n",
       "      <td>2.701240e+05</td>\n",
       "      <td>880.295908</td>\n",
       "      <td>97.433947</td>\n",
       "    </tr>\n",
       "    <tr>\n",
       "      <th>min</th>\n",
       "      <td>1.000000</td>\n",
       "      <td>0.000000</td>\n",
       "      <td>2.900000e+04</td>\n",
       "      <td>628.000000</td>\n",
       "      <td>19.330000</td>\n",
       "    </tr>\n",
       "    <tr>\n",
       "      <th>25%</th>\n",
       "      <td>2.000000</td>\n",
       "      <td>3.000000</td>\n",
       "      <td>1.811250e+05</td>\n",
       "      <td>1200.000000</td>\n",
       "      <td>140.050000</td>\n",
       "    </tr>\n",
       "    <tr>\n",
       "      <th>50%</th>\n",
       "      <td>2.000000</td>\n",
       "      <td>3.000000</td>\n",
       "      <td>2.789500e+05</td>\n",
       "      <td>1500.000000</td>\n",
       "      <td>186.780000</td>\n",
       "    </tr>\n",
       "    <tr>\n",
       "      <th>75%</th>\n",
       "      <td>3.000000</td>\n",
       "      <td>4.000000</td>\n",
       "      <td>4.437250e+05</td>\n",
       "      <td>2064.000000</td>\n",
       "      <td>225.525000</td>\n",
       "    </tr>\n",
       "    <tr>\n",
       "      <th>max</th>\n",
       "      <td>7.000000</td>\n",
       "      <td>6.000000</td>\n",
       "      <td>1.799000e+06</td>\n",
       "      <td>6500.000000</td>\n",
       "      <td>686.020000</td>\n",
       "    </tr>\n",
       "    <tr>\n",
       "      <th rowspan=\"8\" valign=\"top\">Regular</th>\n",
       "      <th>count</th>\n",
       "      <td>103.000000</td>\n",
       "      <td>103.000000</td>\n",
       "      <td>1.030000e+02</td>\n",
       "      <td>103.000000</td>\n",
       "      <td>103.000000</td>\n",
       "    </tr>\n",
       "    <tr>\n",
       "      <th>mean</th>\n",
       "      <td>2.446602</td>\n",
       "      <td>3.048544</td>\n",
       "      <td>6.411621e+05</td>\n",
       "      <td>1926.699029</td>\n",
       "      <td>311.406796</td>\n",
       "    </tr>\n",
       "    <tr>\n",
       "      <th>std</th>\n",
       "      <td>0.801080</td>\n",
       "      <td>0.832886</td>\n",
       "      <td>6.752140e+05</td>\n",
       "      <td>826.470618</td>\n",
       "      <td>189.019573</td>\n",
       "    </tr>\n",
       "    <tr>\n",
       "      <th>min</th>\n",
       "      <td>1.000000</td>\n",
       "      <td>1.000000</td>\n",
       "      <td>2.650000e+04</td>\n",
       "      <td>120.000000</td>\n",
       "      <td>19.720000</td>\n",
       "    </tr>\n",
       "    <tr>\n",
       "      <th>25%</th>\n",
       "      <td>2.000000</td>\n",
       "      <td>3.000000</td>\n",
       "      <td>3.154500e+05</td>\n",
       "      <td>1431.000000</td>\n",
       "      <td>200.100000</td>\n",
       "    </tr>\n",
       "    <tr>\n",
       "      <th>50%</th>\n",
       "      <td>2.000000</td>\n",
       "      <td>3.000000</td>\n",
       "      <td>5.090000e+05</td>\n",
       "      <td>1832.000000</td>\n",
       "      <td>282.690000</td>\n",
       "    </tr>\n",
       "    <tr>\n",
       "      <th>75%</th>\n",
       "      <td>3.000000</td>\n",
       "      <td>3.000000</td>\n",
       "      <td>7.620000e+05</td>\n",
       "      <td>2237.500000</td>\n",
       "      <td>369.740000</td>\n",
       "    </tr>\n",
       "    <tr>\n",
       "      <th>max</th>\n",
       "      <td>6.000000</td>\n",
       "      <td>6.000000</td>\n",
       "      <td>5.499000e+06</td>\n",
       "      <td>5060.000000</td>\n",
       "      <td>1144.640000</td>\n",
       "    </tr>\n",
       "    <tr>\n",
       "      <th rowspan=\"4\" valign=\"top\">Short Sale</th>\n",
       "      <th>count</th>\n",
       "      <td>516.000000</td>\n",
       "      <td>516.000000</td>\n",
       "      <td>5.160000e+02</td>\n",
       "      <td>516.000000</td>\n",
       "      <td>516.000000</td>\n",
       "    </tr>\n",
       "    <tr>\n",
       "      <th>mean</th>\n",
       "      <td>2.350775</td>\n",
       "      <td>3.137597</td>\n",
       "      <td>3.381775e+05</td>\n",
       "      <td>1718.463178</td>\n",
       "      <td>197.567326</td>\n",
       "    </tr>\n",
       "    <tr>\n",
       "      <th>std</th>\n",
       "      <td>0.867436</td>\n",
       "      <td>0.825834</td>\n",
       "      <td>2.365197e+05</td>\n",
       "      <td>795.330609</td>\n",
       "      <td>88.248737</td>\n",
       "    </tr>\n",
       "    <tr>\n",
       "      <th>min</th>\n",
       "      <td>1.000000</td>\n",
       "      <td>0.000000</td>\n",
       "      <td>4.090000e+04</td>\n",
       "      <td>398.000000</td>\n",
       "      <td>34.050000</td>\n",
       "    </tr>\n",
       "  </tbody>\n",
       "</table>\n",
       "</div>"
      ],
      "text/plain": [
       "                    Bathrooms    Bedrooms         Price         Size  \\\n",
       "Status                                                                 \n",
       "Foreclosure count  162.000000  162.000000  1.620000e+02   162.000000   \n",
       "            mean     2.314815    3.216049  3.632146e+05  1762.493827   \n",
       "            std      0.807359    0.956956  2.701240e+05   880.295908   \n",
       "            min      1.000000    0.000000  2.900000e+04   628.000000   \n",
       "            25%      2.000000    3.000000  1.811250e+05  1200.000000   \n",
       "            50%      2.000000    3.000000  2.789500e+05  1500.000000   \n",
       "            75%      3.000000    4.000000  4.437250e+05  2064.000000   \n",
       "            max      7.000000    6.000000  1.799000e+06  6500.000000   \n",
       "Regular     count  103.000000  103.000000  1.030000e+02   103.000000   \n",
       "            mean     2.446602    3.048544  6.411621e+05  1926.699029   \n",
       "            std      0.801080    0.832886  6.752140e+05   826.470618   \n",
       "            min      1.000000    1.000000  2.650000e+04   120.000000   \n",
       "            25%      2.000000    3.000000  3.154500e+05  1431.000000   \n",
       "            50%      2.000000    3.000000  5.090000e+05  1832.000000   \n",
       "            75%      3.000000    3.000000  7.620000e+05  2237.500000   \n",
       "            max      6.000000    6.000000  5.499000e+06  5060.000000   \n",
       "Short Sale  count  516.000000  516.000000  5.160000e+02   516.000000   \n",
       "            mean     2.350775    3.137597  3.381775e+05  1718.463178   \n",
       "            std      0.867436    0.825834  2.365197e+05   795.330609   \n",
       "            min      1.000000    0.000000  4.090000e+04   398.000000   \n",
       "\n",
       "                   Price/SQ.Ft  \n",
       "Status                          \n",
       "Foreclosure count   162.000000  \n",
       "            mean    200.221605  \n",
       "            std      97.433947  \n",
       "            min      19.330000  \n",
       "            25%     140.050000  \n",
       "            50%     186.780000  \n",
       "            75%     225.525000  \n",
       "            max     686.020000  \n",
       "Regular     count   103.000000  \n",
       "            mean    311.406796  \n",
       "            std     189.019573  \n",
       "            min      19.720000  \n",
       "            25%     200.100000  \n",
       "            50%     282.690000  \n",
       "            75%     369.740000  \n",
       "            max    1144.640000  \n",
       "Short Sale  count   516.000000  \n",
       "            mean    197.567326  \n",
       "            std      88.248737  \n",
       "            min      34.050000  "
      ]
     },
     "execution_count": 52,
     "metadata": {},
     "output_type": "execute_result"
    }
   ],
   "source": [
    "status_df =status_groupby['Bathrooms','Bedrooms','Price','Size','Price/SQ.Ft'].describe()\n",
    "print type(status_df)\n",
    "status_df.head(20)"
   ]
  },
  {
   "cell_type": "markdown",
   "metadata": {},
   "source": [
    "Another way of printing statistics using group by is shown below, without having to iterate through each item in the dataframe. You can find documentation about std function here (http://pandas-docs.github.io/pandas-docs-travis/)."
   ]
  },
  {
   "cell_type": "code",
   "execution_count": 57,
   "metadata": {
    "scrolled": true
   },
   "outputs": [
    {
     "name": "stdout",
     "output_type": "stream",
     "text": [
      "              listing id          Price  Bedrooms  Bathrooms        Size  \\\n",
      "Status                                                                     \n",
      "Foreclosure  2691.998699  270124.016966  0.956956   0.807359  880.295908   \n",
      "Regular        71.974328  675214.007648  0.832886   0.801080  826.470618   \n",
      "Short Sale   4240.579781  236519.660193  0.825834   0.867436  795.330609   \n",
      "\n",
      "             Price/SQ.Ft  \n",
      "Status                    \n",
      "Foreclosure    97.433947  \n",
      "Regular       189.019573  \n",
      "Short Sale     88.248737  \n"
     ]
    }
   ],
   "source": [
    "\n",
    "status_df =df.groupby('Status').std()\n",
    "print status_df"
   ]
  },
  {
   "cell_type": "code",
   "execution_count": null,
   "metadata": {
    "collapsed": true
   },
   "outputs": [],
   "source": []
  }
 ],
 "metadata": {
  "kernelspec": {
   "display_name": "Python 2",
   "language": "python",
   "name": "python2"
  },
  "language_info": {
   "codemirror_mode": {
    "name": "ipython",
    "version": 2
   },
   "file_extension": ".py",
   "mimetype": "text/x-python",
   "name": "python",
   "nbconvert_exporter": "python",
   "pygments_lexer": "ipython2",
   "version": "2.7.12"
  }
 },
 "nbformat": 4,
 "nbformat_minor": 2
}
